{
 "cells": [
  {
   "cell_type": "code",
   "execution_count": 12,
   "metadata": {},
   "outputs": [],
   "source": [
    "import pandas as pd\n",
    "import yaml\n",
    "import dask.dataframe as dd\n",
    "import modin.pandas as md\n",
    "import ray\n",
    "import time\n",
    "import os"
   ]
  },
  {
   "cell_type": "code",
   "execution_count": 7,
   "metadata": {},
   "outputs": [],
   "source": [
    "def validateFileWithYaml(filepath):\n",
    "    with open(filepath, \"r\") as stream:\n",
    "        try:\n",
    "            return yaml.safe_load(stream)\n",
    "        except Exception as e:\n",
    "            print(e)\n",
    "\n",
    "def validate(data, configuration):\n",
    "    data.columns = data.columns.str.lower()\n",
    "    data.columns = data.columns.str.strip()\n",
    "    data.columns = list(map(lambda x: x.replace(\" \", \"_\"), list(data.columns)))\n",
    "    configuration[\"columns\"] = list(map((lambda x: x.replace(\" \", \"_\")), configuration[\"columns\"]))\n",
    "    configuration[\"columns\"] = list(\n",
    "        map((lambda x: x.strip()), configuration[\"columns\"])\n",
    "    )\n",
    "    configuration[\"columns\"] = list(\n",
    "        map((lambda x: x.lower()), configuration[\"columns\"])\n",
    "    )\n",
    "    specialCharactersAndNumbers = ['1234567890!@#$%^&*()-=+[]{}\\\\`~/?.,<>;:\\'\\\"']\n",
    "    for i in specialCharactersAndNumbers:\n",
    "        data.columns = list(map(lambda x: x.replace(i, \"_\"), list(data.columns)))\n",
    "    for i in configuration[\"columns\"]:\n",
    "        if i not in data.columns:\n",
    "            print(f\"column {i} present in configuration yaml file is not found in the data!\")\n",
    "            return False\n",
    "    if len(configuration[\"columns\"]) != len(list(data.columns)):\n",
    "        return False\n",
    "    return True"
   ]
  },
  {
   "cell_type": "code",
   "execution_count": 3,
   "metadata": {},
   "outputs": [
    {
     "name": "stderr",
     "output_type": "stream",
     "text": [
      "2024-07-18 22:13:42,022\tINFO worker.py:1788 -- Started a local Ray instance.\n"
     ]
    },
    {
     "name": "stdout",
     "output_type": "stream",
     "text": [
      "0.021056413650512695 seconds using dask\n",
      "35.30572843551636 seconds using Modin\n",
      "2.4987645149230957 seconds using Ray\n",
      "87.8527979850769 seconds using pandas\n"
     ]
    }
   ],
   "source": [
    "config_data = validateFileWithYaml(\"file.yaml\")\n",
    "ray.init(ignore_reinit_error=True)\n",
    "start_time = time.time()\n",
    "dask = dd.read_csv(\"2019-Nov.csv\", delimiter=config_data[\"inbound_delimiter\"])\n",
    "end_time = time.time()\n",
    "print(f\"{end_time - start_time} seconds using dask\")\n",
    "start_time = time.time()\n",
    "modin = md.read_csv(\"2019-Nov.csv\", delimiter=config_data[\"inbound_delimiter\"])\n",
    "end_time = time.time()\n",
    "print(f\"{end_time - start_time} seconds using Modin\")\n",
    "start_time = time.time()\n",
    "rayDf = ray.data.read_csv(\"2019-Nov.csv\", delimiter=config_data[\"inbound_delimiter\"])\n",
    "end_time = time.time()\n",
    "print(f\"{end_time - start_time} seconds using Ray\")\n",
    "start_time = time.time()\n",
    "df_pandas = pd.read_csv(\"2019-Nov.csv\", delimiter=config_data[\"inbound_delimiter\"])\n",
    "end_time = time.time()\n",
    "print(f\"{end_time - start_time} seconds using pandas\")"
   ]
  },
  {
   "cell_type": "code",
   "execution_count": 21,
   "metadata": {},
   "outputs": [
    {
     "name": "stdout",
     "output_type": "stream",
     "text": [
      "validation succeeded\n"
     ]
    }
   ],
   "source": [
    "# as we can see, the best approach for reading the csv file would be to use dask as it is the most time efficient method\n",
    "file_type = config_data[\"file_type\"]\n",
    "source_file = \"./\" + config_data[\"file_name\"] + f\".{file_type}\"\n",
    "df = dd.read_csv(source_file, delimiter=config_data[\"inbound_delimiter\"])\n",
    "if not validate(df, config_data):\n",
    "    print(\"validation failed\")\n",
    "else:\n",
    "    print(\"validation succeeded\")\n",
    "    output_file = \"./output.txt.gz\"\n",
    "    df.to_csv(output_file, sep=config_data[\"outbound_delimiter\"], index=False, compression=\"gzip\", single_file=True)\n",
    "    "
   ]
  },
  {
   "cell_type": "code",
   "execution_count": 13,
   "metadata": {},
   "outputs": [
    {
     "name": "stdout",
     "output_type": "stream",
     "text": [
      "Total Rows: 67501979\n",
      "Total Columns: 9\n",
      "Gz File Size:2813799300\n"
     ]
    }
   ],
   "source": [
    "config_data = validateFileWithYaml(\"file.yaml\")\n",
    "file_type = config_data[\"file_type\"]\n",
    "source_file = \"./\" + config_data[\"file_name\"] + f\".{file_type}\"\n",
    "df = dd.read_csv(source_file, delimiter=config_data[\"inbound_delimiter\"])\n",
    "total_rows = len(df[\"brand\"])\n",
    "num_columns = len(df.columns)\n",
    "file_stats = os.stat(\"./output.txt.gz\")\n",
    "file_size = file_stats.st_size\n",
    "print(f\"Total Rows: {total_rows}\")\n",
    "print(f\"Total Columns: {num_columns}\")\n",
    "print(f\"Gz File Size:{file_size} Bytes\")"
   ]
  }
 ],
 "metadata": {
  "kernelspec": {
   "display_name": "Python 3",
   "language": "python",
   "name": "python3"
  },
  "language_info": {
   "codemirror_mode": {
    "name": "ipython",
    "version": 3
   },
   "file_extension": ".py",
   "mimetype": "text/x-python",
   "name": "python",
   "nbconvert_exporter": "python",
   "pygments_lexer": "ipython3",
   "version": "3.12.1"
  }
 },
 "nbformat": 4,
 "nbformat_minor": 2
}
